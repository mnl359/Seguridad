{
 "cells": [
  {
   "cell_type": "markdown",
   "metadata": {},
   "source": [
    "# FTP (Protocolo de transferencia de archivos)\n",
    "\n",
    "Basado en una arquitectura cliente-servidor, este protocolo transfiere archivos por medio de una red TCP; para lo cual utiliza un puerto TCP 21."
   ]
  },
  {
   "cell_type": "markdown",
   "metadata": {},
   "source": [
    "## Vulnerabilidad\n",
    "Al inicio"
   ]
  },
  {
   "cell_type": "markdown",
   "metadata": {},
   "source": [
    "## Exploit\n",
    "**Descripción:** VSFTPD v2.3.4 Backdoor Command Execution\n",
    "Para Unix utilizando la arquitectura de comandos.\n",
    "Este módulo explota un backdoor añadido por el mismo servicio, puesto ahí por los desarrolladores con el objetivo de poder entrar al servidor para actualizar el servicio."
   ]
  }
 ],
 "metadata": {
  "kernelspec": {
   "display_name": "Python 3",
   "language": "python",
   "name": "python3"
  },
  "language_info": {
   "codemirror_mode": {
    "name": "ipython",
    "version": 3
   },
   "file_extension": ".py",
   "mimetype": "text/x-python",
   "name": "python",
   "nbconvert_exporter": "python",
   "pygments_lexer": "ipython3",
   "version": "3.5.2"
  }
 },
 "nbformat": 4,
 "nbformat_minor": 2
}
