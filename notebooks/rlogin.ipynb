{
 "cells": [
  {
   "cell_type": "markdown",
   "metadata": {},
   "source": [
    "# rlogin (Remote Login)\n",
    "\n",
    "Los puertos TCP 512, 513 y 514 son conocidos como puertos de servicio \"r\" cuando se tiene este tipo de servicios el usuario puede realizar un login a una maquina remota por este medio, en el archivo `.rhost` se realiza la configuración de seguridad de dicho servicio, se realiza de la siguiente forma:\n",
    "\n",
    "nombreDeLaMaquina     nombreDeUsuario\n",
    "kali                  root\n",
    "\n",
    "De la forma anterior se puede obtener un acceso por medio de una maquina A llamada kali y por medio del usuario root, este archivo a su vez permite una modicación en la que la seguridad puede ser evitada facilmente y es reemplazar el nombre de usuario y el nombre de la maquina por el simbolo mas (+), de esta forma se permite que cualquier maquina con cualquier usuario obtenga acceso a la maquina remota.\n",
    "\n",
    "Para realizar este acceso se debe tener instalado en la maquina cliente el programa \"rsh-client\", si se tiene una maquina de la familia Debian se realiza por el comando `sudo apt install rsh-client`, una vez instalado el programa se procede a realizar la conexión por medio del comando `rlogin -l root <IP>`, en metasploitable el archivo `.rhosts` esta por defecto configurado para aceptar todas las maquinas y todos los usuarios."
   ]
  }
 ],
 "metadata": {
  "kernelspec": {
   "display_name": "Python 3",
   "language": "python",
   "name": "python3"
  },
  "language_info": {
   "codemirror_mode": {
    "name": "ipython",
    "version": 3
   },
   "file_extension": ".py",
   "mimetype": "text/x-python",
   "name": "python",
   "nbconvert_exporter": "python",
   "pygments_lexer": "ipython3",
   "version": "3.6.3"
  }
 },
 "nbformat": 4,
 "nbformat_minor": 2
}
